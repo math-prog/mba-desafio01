{
  "nbformat": 4,
  "nbformat_minor": 0,
  "metadata": {
    "colab": {
      "provenance": []
    },
    "kernelspec": {
      "name": "python3",
      "display_name": "Python 3"
    },
    "language_info": {
      "name": "python"
    }
  },
  "cells": [
    {
      "cell_type": "markdown",
      "source": [
        "# Desafio Prático: Módulo 1: Fundamentos em Arquitetura de Dados e Soluções em Nuvem"
      ],
      "metadata": {
        "id": "Uu6hr51f5nBM"
      }
    },
    {
      "cell_type": "markdown",
      "source": [
        "# 0.0. Loading data"
      ],
      "metadata": {
        "id": "vsfTiCBWRwuE"
      }
    },
    {
      "cell_type": "code",
      "source": [
        "!pip install unidecode\n",
        "!pip install pyspark"
      ],
      "metadata": {
        "colab": {
          "base_uri": "https://localhost:8080/"
        },
        "id": "hsK_OhvI7s7H",
        "outputId": "a5e73aa3-0225-46e0-db8b-529ed880a49a"
      },
      "execution_count": 1,
      "outputs": [
        {
          "output_type": "stream",
          "name": "stdout",
          "text": [
            "Looking in indexes: https://pypi.org/simple, https://us-python.pkg.dev/colab-wheels/public/simple/\n",
            "Collecting unidecode\n",
            "  Downloading Unidecode-1.3.6-py3-none-any.whl (235 kB)\n",
            "\u001b[2K     \u001b[90m━━━━━━━━━━━━━━━━━━━━━━━━━━━━━━━━━━━━━━━\u001b[0m \u001b[32m235.9/235.9 kB\u001b[0m \u001b[31m6.2 MB/s\u001b[0m eta \u001b[36m0:00:00\u001b[0m\n",
            "\u001b[?25hInstalling collected packages: unidecode\n",
            "Successfully installed unidecode-1.3.6\n",
            "Looking in indexes: https://pypi.org/simple, https://us-python.pkg.dev/colab-wheels/public/simple/\n",
            "Collecting pyspark\n",
            "  Downloading pyspark-3.4.0.tar.gz (310.8 MB)\n",
            "\u001b[2K     \u001b[90m━━━━━━━━━━━━━━━━━━━━━━━━━━━━━━━━━━━━━━━\u001b[0m \u001b[32m310.8/310.8 MB\u001b[0m \u001b[31m3.5 MB/s\u001b[0m eta \u001b[36m0:00:00\u001b[0m\n",
            "\u001b[?25h  Preparing metadata (setup.py) ... \u001b[?25l\u001b[?25hdone\n",
            "Requirement already satisfied: py4j==0.10.9.7 in /usr/local/lib/python3.10/dist-packages (from pyspark) (0.10.9.7)\n",
            "Building wheels for collected packages: pyspark\n",
            "  Building wheel for pyspark (setup.py) ... \u001b[?25l\u001b[?25hdone\n",
            "  Created wheel for pyspark: filename=pyspark-3.4.0-py2.py3-none-any.whl size=311317130 sha256=c477ef31bfc55b54f712ac36f3ce30bb395695b050c4f9f005b76ef91490d74f\n",
            "  Stored in directory: /root/.cache/pip/wheels/7b/1b/4b/3363a1d04368e7ff0d408e57ff57966fcdf00583774e761327\n",
            "Successfully built pyspark\n",
            "Installing collected packages: pyspark\n",
            "Successfully installed pyspark-3.4.0\n"
          ]
        }
      ]
    },
    {
      "cell_type": "markdown",
      "source": [
        "## 0.1. Import libraries"
      ],
      "metadata": {
        "id": "tekxOMueAaeU"
      }
    },
    {
      "cell_type": "code",
      "source": [
        "import os\n",
        "import re\n",
        "import time\n",
        "import requests\n",
        "import subprocess\n",
        "\n",
        "from functools             import reduce\n",
        "from unidecode             import unidecode\n",
        "from pyspark.sql           import SparkSession\n",
        "from pyspark.sql.types     import StringType\n",
        "from pyspark.sql.utils     import AnalysisException\n",
        "from pyspark.sql.functions import col, regexp_replace, lower, translate, mean, max, min, col, count, avg, round, udf\n",
        "\n",
        "from pyspark.sql           import functions as F"
      ],
      "metadata": {
        "id": "QU5O2_93AfTw"
      },
      "execution_count": 2,
      "outputs": []
    },
    {
      "cell_type": "markdown",
      "source": [
        "## 0.2 Import file"
      ],
      "metadata": {
        "id": "3BbIXtcr_2Gq"
      }
    },
    {
      "cell_type": "code",
      "source": [
        "from google.colab import drive\n",
        "drive.mount('/content/drive')"
      ],
      "metadata": {
        "id": "yvzEIJFy2VVC",
        "colab": {
          "base_uri": "https://localhost:8080/"
        },
        "outputId": "dc376ca7-ecd9-4a63-88a4-b957417a08b8"
      },
      "execution_count": 3,
      "outputs": [
        {
          "output_type": "stream",
          "name": "stdout",
          "text": [
            "Mounted at /content/drive\n"
          ]
        }
      ]
    },
    {
      "cell_type": "code",
      "source": [
        "# import os\n",
        "# from ftplib import FTP\n",
        "# import zipfile\n",
        "# import shutil\n",
        "\n",
        "# # FTP server details\n",
        "# ftp_url = \"ftp.mtps.gov.br\"\n",
        "# ftp_path = \"/pdet/microdados/RAIS/2020\"\n",
        "# output_folder = \"/content/data/raw\"  # Modify this to your desired local directory\n",
        "\n",
        "# # Connect to the FTP server\n",
        "# ftp = FTP(ftp_url)\n",
        "# ftp.login()  # Login anonymously\n",
        "\n",
        "# # Change to the desired directory on the FTP server\n",
        "# ftp.cwd(ftp_path)\n",
        "\n",
        "# # Create the output folder if it doesn't exist\n",
        "# if not os.path.exists(output_folder):\n",
        "#     os.makedirs(output_folder)\n",
        "\n",
        "# # List all files in the current directory on the FTP server\n",
        "# file_list = ftp.nlst()\n",
        "\n",
        "# # Get the list of files in the output folder\n",
        "# files = os.listdir(output_folder)\n",
        "\n",
        "# # Download and extract each file\n",
        "# for filename in file_list:\n",
        "#     local_filepath = os.path.join(output_folder, filename)\n",
        "\n",
        "#     # Download the file\n",
        "#     with open(local_filepath, \"wb\") as file:\n",
        "#         ftp.retrbinary(\"RETR \" + filename, file.write)\n",
        "#         print(f\"Downloaded: {filename}\")\n",
        "\n",
        "# # Disconnect from the FTP server\n",
        "# ftp.quit()\n",
        "\n",
        "# print(\"All files downloaded successfully.\")\n",
        "\n",
        "# # Path to the folder with .7z files\n",
        "# source_folder = '/content/data/raw'\n",
        "\n",
        "# # Get the list of files in the source folder\n",
        "# files = os.listdir(source_folder)\n",
        "\n",
        "# # Iterate over all files in the folder\n",
        "# for file in files:\n",
        "#     # Check if the file is a .7z file\n",
        "#     if file.endswith('.7z'):\n",
        "#         # Extract the file using 7-Zip (make sure you have 7-Zip installed)\n",
        "#         command = f'7z x \"{os.path.join(source_folder, file)}\" -o\"{source_folder}\"'\n",
        "#         os.system(command)\n",
        "        \n",
        "#         # Delete the .7z file\n",
        "#         os.remove(os.path.join(source_folder, file))\n",
        "\n",
        "# print(\"Extraction and deletion completed successfully.\")"
      ],
      "metadata": {
        "colab": {
          "base_uri": "https://localhost:8080/"
        },
        "id": "eqU3hkEnQ0z-",
        "outputId": "a87a85cd-12cb-4adb-ec1a-bec066f43b2a"
      },
      "execution_count": null,
      "outputs": [
        {
          "output_type": "stream",
          "name": "stdout",
          "text": [
            "Downloaded: RAIS_ESTAB_PUB.7z\n",
            "Downloaded: RAIS_VINC_PUB_CENTRO_OESTE.7z\n",
            "Downloaded: RAIS_VINC_PUB_MG_ES_RJ.7z\n",
            "Downloaded: RAIS_VINC_PUB_NORDESTE.7z\n",
            "Downloaded: RAIS_VINC_PUB_NORTE.7z\n",
            "Downloaded: RAIS_VINC_PUB_SP.7z\n",
            "Downloaded: RAIS_VINC_PUB_SUL.7z\n",
            "All files downloaded successfully.\n",
            "Extraction and deletion completed successfully.\n"
          ]
        }
      ]
    },
    {
      "cell_type": "code",
      "source": [
        "# import shutil\n",
        "\n",
        "# # Specify the source and destination paths\n",
        "# source_path = '/content/data/raw'\n",
        "# destination_path = '/content/drive/MyDrive/desafio_mba/rais/raw'\n",
        "\n",
        "# # Copy the directory to your Google Drive\n",
        "# shutil.copytree(source_path, destination_path)"
      ],
      "metadata": {
        "colab": {
          "base_uri": "https://localhost:8080/",
          "height": 53
        },
        "id": "i8Q_qdVKzvph",
        "outputId": "175602df-c472-4c4a-958a-b89abe2c45a4"
      },
      "execution_count": null,
      "outputs": [
        {
          "output_type": "execute_result",
          "data": {
            "text/plain": [
              "'/content/drive/MyDrive/desafio_mba/rais/raw'"
            ],
            "application/vnd.google.colaboratory.intrinsic+json": {
              "type": "string"
            }
          },
          "metadata": {},
          "execution_count": 6
        }
      ]
    },
    {
      "cell_type": "markdown",
      "source": [
        "## 0.3 Load and change data"
      ],
      "metadata": {
        "id": "gdrNdnQNRmRw"
      }
    },
    {
      "cell_type": "code",
      "source": [
        "# Create Spark session\n",
        "spark = SparkSession.builder.appName(\"ReadDataRAIS\").getOrCreate()\n",
        "\n",
        "rais = (\n",
        "    spark\n",
        "    .read\n",
        "    .format(\"csv\")\n",
        "    .option(\"header\", True)\n",
        "    .option(\"inferSchema\", True)\n",
        "    .option(\"delimiter\", \";\")\n",
        "    .option(\"encoding\", \"latin1\")\n",
        "    .load(\"/content/drive/MyDrive/desafio_mba/rais/raw\") \n",
        ") \n",
        "\n",
        "# Print the updated schema\n",
        "rais.printSchema()"
      ],
      "metadata": {
        "id": "G-p1hnCHy0kt",
        "colab": {
          "base_uri": "https://localhost:8080/"
        },
        "outputId": "ba040e8c-be64-457a-d3a1-8022762aaa87"
      },
      "execution_count": 19,
      "outputs": [
        {
          "output_type": "stream",
          "name": "stdout",
          "text": [
            "root\n",
            " |-- Bairros SP: string (nullable = true)\n",
            " |-- Bairros Fortaleza: string (nullable = true)\n",
            " |-- Bairros RJ: string (nullable = true)\n",
            " |-- Causa Afastamento 1: integer (nullable = true)\n",
            " |-- Causa Afastamento 2: integer (nullable = true)\n",
            " |-- Causa Afastamento 3: integer (nullable = true)\n",
            " |-- Motivo Desligamento: integer (nullable = true)\n",
            " |-- CBO Ocupação 2002: string (nullable = true)\n",
            " |-- CNAE 2.0 Classe: integer (nullable = true)\n",
            " |-- CNAE 95 Classe: integer (nullable = true)\n",
            " |-- Distritos SP: string (nullable = true)\n",
            " |-- Vínculo Ativo 31/12: integer (nullable = true)\n",
            " |-- Faixa Etária: integer (nullable = true)\n",
            " |-- Faixa Hora Contrat: integer (nullable = true)\n",
            " |-- Faixa Remun Dezem (SM): integer (nullable = true)\n",
            " |-- Faixa Remun Média (SM): integer (nullable = true)\n",
            " |-- Faixa Tempo Emprego: integer (nullable = true)\n",
            " |-- Escolaridade após 2005: double (nullable = true)\n",
            " |-- Qtd Hora Contr: double (nullable = true)\n",
            " |-- Idade: double (nullable = true)\n",
            " |-- Ind CEI Vinculado: integer (nullable = true)\n",
            " |-- Ind Simples: integer (nullable = true)\n",
            " |-- Mês Admissão: integer (nullable = true)\n",
            " |-- Mês Desligamento: string (nullable = true)\n",
            " |-- Mun Trab: integer (nullable = true)\n",
            " |-- Município: integer (nullable = true)\n",
            " |-- Nacionalidade: integer (nullable = true)\n",
            " |-- Natureza Jurídica: integer (nullable = true)\n",
            " |-- Ind Portador Defic: integer (nullable = true)\n",
            " |-- Qtd Dias Afastamento: double (nullable = true)\n",
            " |-- Raça Cor: integer (nullable = true)\n",
            " |-- Regiões Adm DF: integer (nullable = true)\n",
            " |-- Vl Remun Dezembro Nom: string (nullable = true)\n",
            " |-- Vl Remun Dezembro (SM): string (nullable = true)\n",
            " |-- Vl Remun Média Nom: string (nullable = true)\n",
            " |-- Vl Remun Média (SM): string (nullable = true)\n",
            " |-- CNAE 2.0 Subclasse: integer (nullable = true)\n",
            " |-- Sexo Trabalhador: double (nullable = true)\n",
            " |-- Tamanho Estabelecimento: integer (nullable = true)\n",
            " |-- Tempo Emprego: string (nullable = true)\n",
            " |-- Tipo Admissão: integer (nullable = true)\n",
            " |-- Tipo Estab41: integer (nullable = true)\n",
            " |-- Tipo Estab42: string (nullable = true)\n",
            " |-- Tipo Defic: integer (nullable = true)\n",
            " |-- Tipo Vínculo: integer (nullable = true)\n",
            " |-- IBGE Subsetor: integer (nullable = true)\n",
            " |-- Vl Rem Janeiro SC: string (nullable = true)\n",
            " |-- Vl Rem Fevereiro SC: string (nullable = true)\n",
            " |-- Vl Rem Março SC: string (nullable = true)\n",
            " |-- Vl Rem Abril SC: string (nullable = true)\n",
            " |-- Vl Rem Maio SC: string (nullable = true)\n",
            " |-- Vl Rem Junho SC: string (nullable = true)\n",
            " |-- Vl Rem Julho SC: string (nullable = true)\n",
            " |-- Vl Rem Agosto SC: string (nullable = true)\n",
            " |-- Vl Rem Setembro SC: string (nullable = true)\n",
            " |-- Vl Rem Outubro SC: string (nullable = true)\n",
            " |-- Vl Rem Novembro SC: string (nullable = true)\n",
            " |-- Ano Chegada Brasil: integer (nullable = true)\n",
            " |-- Ind Trab Intermitente: integer (nullable = true)\n",
            " |-- Ind Trab Parcial: integer (nullable = true)\n",
            "\n"
          ]
        }
      ]
    },
    {
      "cell_type": "code",
      "source": [
        "# Manually rename columns without accents\n",
        "new_column_names = [unidecode(col_name) for col_name in rais.columns]\n",
        "rais = rais.toDF(*new_column_names)\n",
        "\n",
        "# rename columns without accents, lowercase, and replace spaces with underscores\n",
        "new_column_names = [unidecode(col_name).lower().replace(\" \", \"_\") for col_name in rais.columns]\n",
        "rais = rais.toDF(*new_column_names)\n",
        "\n",
        "# Add a new column \"uf\" by extracting the first two characters from the \"municipio\" column\n",
        "rais = rais.withColumn(\"uf\", col(\"municipio\").cast(\"string\").substr(1, 2).cast(\"int\"))\n",
        "\n",
        "# List of columns to be casted to double\n",
        "double_columns = [\n",
        "    \"vl_rem_janeiro_sc\",\n",
        "    \"vl_rem_fevereiro_sc\",\n",
        "    \"vl_rem_marco_sc\",\n",
        "    \"vl_rem_abril_sc\",\n",
        "    \"vl_rem_maio_sc\",\n",
        "    \"vl_rem_junho_sc\",\n",
        "    \"vl_rem_julho_sc\",\n",
        "    \"vl_rem_agosto_sc\",\n",
        "    \"vl_rem_setembro_sc\",\n",
        "    \"vl_rem_outubro_sc\",\n",
        "    \"vl_rem_novembro_sc\"\n",
        "]\n",
        "\n",
        "# Transform columns to double type\n",
        "for column in double_columns:\n",
        "    rais = rais.withColumn(column, col(column).cast(\"double\"))\n",
        "\n",
        "# Add a new column \"uf\" by extracting the first two characters from the \"municipio\" column\n",
        "rais = rais.withColumn(\"uf\", col(\"municipio\").cast(\"string\").substr(1, 2).cast(\"int\"))\n",
        "\n",
        "\n",
        "# Print the updated schema\n",
        "rais.printSchema()"
      ],
      "metadata": {
        "colab": {
          "base_uri": "https://localhost:8080/"
        },
        "id": "0VJnri3eMBoF",
        "outputId": "92fb56c6-e120-4a1c-9027-4b0d8f4319db"
      },
      "execution_count": 20,
      "outputs": [
        {
          "output_type": "stream",
          "name": "stdout",
          "text": [
            "root\n",
            " |-- bairros_sp: string (nullable = true)\n",
            " |-- bairros_fortaleza: string (nullable = true)\n",
            " |-- bairros_rj: string (nullable = true)\n",
            " |-- causa_afastamento_1: integer (nullable = true)\n",
            " |-- causa_afastamento_2: integer (nullable = true)\n",
            " |-- causa_afastamento_3: integer (nullable = true)\n",
            " |-- motivo_desligamento: integer (nullable = true)\n",
            " |-- cbo_ocupacao_2002: string (nullable = true)\n",
            " |-- cnae_2.0_classe: integer (nullable = true)\n",
            " |-- cnae_95_classe: integer (nullable = true)\n",
            " |-- distritos_sp: string (nullable = true)\n",
            " |-- vinculo_ativo_31/12: integer (nullable = true)\n",
            " |-- faixa_etaria: integer (nullable = true)\n",
            " |-- faixa_hora_contrat: integer (nullable = true)\n",
            " |-- faixa_remun_dezem_(sm): integer (nullable = true)\n",
            " |-- faixa_remun_media_(sm): integer (nullable = true)\n",
            " |-- faixa_tempo_emprego: integer (nullable = true)\n",
            " |-- escolaridade_apos_2005: double (nullable = true)\n",
            " |-- qtd_hora_contr: double (nullable = true)\n",
            " |-- idade: double (nullable = true)\n",
            " |-- ind_cei_vinculado: integer (nullable = true)\n",
            " |-- ind_simples: integer (nullable = true)\n",
            " |-- mes_admissao: integer (nullable = true)\n",
            " |-- mes_desligamento: string (nullable = true)\n",
            " |-- mun_trab: integer (nullable = true)\n",
            " |-- municipio: integer (nullable = true)\n",
            " |-- nacionalidade: integer (nullable = true)\n",
            " |-- natureza_juridica: integer (nullable = true)\n",
            " |-- ind_portador_defic: integer (nullable = true)\n",
            " |-- qtd_dias_afastamento: double (nullable = true)\n",
            " |-- raca_cor: integer (nullable = true)\n",
            " |-- regioes_adm_df: integer (nullable = true)\n",
            " |-- vl_remun_dezembro_nom: string (nullable = true)\n",
            " |-- vl_remun_dezembro_(sm): string (nullable = true)\n",
            " |-- vl_remun_media_nom: string (nullable = true)\n",
            " |-- vl_remun_media_(sm): string (nullable = true)\n",
            " |-- cnae_2.0_subclasse: integer (nullable = true)\n",
            " |-- sexo_trabalhador: double (nullable = true)\n",
            " |-- tamanho_estabelecimento: integer (nullable = true)\n",
            " |-- tempo_emprego: string (nullable = true)\n",
            " |-- tipo_admissao: integer (nullable = true)\n",
            " |-- tipo_estab41: integer (nullable = true)\n",
            " |-- tipo_estab42: string (nullable = true)\n",
            " |-- tipo_defic: integer (nullable = true)\n",
            " |-- tipo_vinculo: integer (nullable = true)\n",
            " |-- ibge_subsetor: integer (nullable = true)\n",
            " |-- vl_rem_janeiro_sc: double (nullable = true)\n",
            " |-- vl_rem_fevereiro_sc: double (nullable = true)\n",
            " |-- vl_rem_marco_sc: double (nullable = true)\n",
            " |-- vl_rem_abril_sc: double (nullable = true)\n",
            " |-- vl_rem_maio_sc: double (nullable = true)\n",
            " |-- vl_rem_junho_sc: double (nullable = true)\n",
            " |-- vl_rem_julho_sc: double (nullable = true)\n",
            " |-- vl_rem_agosto_sc: double (nullable = true)\n",
            " |-- vl_rem_setembro_sc: double (nullable = true)\n",
            " |-- vl_rem_outubro_sc: double (nullable = true)\n",
            " |-- vl_rem_novembro_sc: double (nullable = true)\n",
            " |-- ano_chegada_brasil: integer (nullable = true)\n",
            " |-- ind_trab_intermitente: integer (nullable = true)\n",
            " |-- ind_trab_parcial: integer (nullable = true)\n",
            " |-- uf: integer (nullable = true)\n",
            "\n"
          ]
        }
      ]
    },
    {
      "cell_type": "code",
      "source": [
        "# Get row count\n",
        "rows = rais.count()\n",
        "print(f\"DataFrame Rows count : {rows}\")"
      ],
      "metadata": {
        "colab": {
          "base_uri": "https://localhost:8080/"
        },
        "id": "nF-oByReVvOl",
        "outputId": "36a42c80-b52c-4194-cac9-8d466131e4fa"
      },
      "execution_count": 21,
      "outputs": [
        {
          "output_type": "stream",
          "name": "stdout",
          "text": [
            "DataFrame Rows count : 65921194\n"
          ]
        }
      ]
    },
    {
      "cell_type": "code",
      "source": [
        "# Define output_path\n",
        "output_path = \"/content/drive/MyDrive/desafio_mba/rais/staging\"\n",
        "\n",
        "# Check if the directory exists and create it if necessary\n",
        "if not os.path.exists(output_path):\n",
        "    os.makedirs(output_path)\n",
        "\n",
        "(\n",
        "    rais\n",
        "    .coalesce(50)\n",
        "    .write.mode('overwrite')\n",
        "    .partitionBy(\"uf\")\n",
        "    .format('parquet')\n",
        "    .save('/content/drive/MyDrive/desafio_mba/rais/staging')\n",
        ")"
      ],
      "metadata": {
        "id": "TXlV8d9nAvXw"
      },
      "execution_count": null,
      "outputs": []
    },
    {
      "cell_type": "code",
      "source": [
        "from pyspark.sql import SparkSession\n",
        "\n",
        "# Create a SparkSession\n",
        "spark = SparkSession.builder.getOrCreate()\n",
        "\n",
        "# Read the Parquet files\n",
        "staging = spark.read.parquet('/content/drive/MyDrive/mba/xpe/desafio01/staging')\n",
        "\n",
        "# Perform operations on the data\n",
        "staging.printSchema()"
      ],
      "metadata": {
        "colab": {
          "base_uri": "https://localhost:8080/"
        },
        "id": "K1RNPchjNJM9",
        "outputId": "63fb0697-fc06-4967-c010-8d46acc07d63"
      },
      "execution_count": 7,
      "outputs": [
        {
          "output_type": "stream",
          "name": "stdout",
          "text": [
            "root\n",
            " |-- bairros_sp: string (nullable = true)\n",
            " |-- bairros_fortaleza: string (nullable = true)\n",
            " |-- bairros_rj: string (nullable = true)\n",
            " |-- causa_afastamento_1: string (nullable = true)\n",
            " |-- causa_afastamento_2: string (nullable = true)\n",
            " |-- causa_afastamento_3: string (nullable = true)\n",
            " |-- motivo_desligamento: string (nullable = true)\n",
            " |-- cbo_ocupacao_2002: string (nullable = true)\n",
            " |-- cnae_2.0_classe: string (nullable = true)\n",
            " |-- cnae_95_classe: string (nullable = true)\n",
            " |-- distritos_sp: string (nullable = true)\n",
            " |-- vinculo_ativo_31/12: string (nullable = true)\n",
            " |-- faixa_etaria: string (nullable = true)\n",
            " |-- faixa_hora_contrat: string (nullable = true)\n",
            " |-- faixa_remun_dezem_(sm): string (nullable = true)\n",
            " |-- faixa_remun_media_(sm): string (nullable = true)\n",
            " |-- faixa_tempo_emprego: string (nullable = true)\n",
            " |-- escolaridade_apos_2005: string (nullable = true)\n",
            " |-- qtd_hora_contr: string (nullable = true)\n",
            " |-- idade: string (nullable = true)\n",
            " |-- ind_cei_vinculado: string (nullable = true)\n",
            " |-- ind_simples: string (nullable = true)\n",
            " |-- mes_admissao: string (nullable = true)\n",
            " |-- mes_desligamento: string (nullable = true)\n",
            " |-- mun_trab: integer (nullable = true)\n",
            " |-- municipio: integer (nullable = true)\n",
            " |-- nacionalidade: integer (nullable = true)\n",
            " |-- natureza_juridica: integer (nullable = true)\n",
            " |-- ind_portador_defic: integer (nullable = true)\n",
            " |-- qtd_dias_afastamento: double (nullable = true)\n",
            " |-- raca_cor: integer (nullable = true)\n",
            " |-- regioes_adm_df: integer (nullable = true)\n",
            " |-- vl_remun_dezembro_nom: string (nullable = true)\n",
            " |-- vl_remun_dezembro_(sm): string (nullable = true)\n",
            " |-- vl_remun_media_nom: string (nullable = true)\n",
            " |-- vl_remun_media_(sm): string (nullable = true)\n",
            " |-- cnae_2.0_subclasse: integer (nullable = true)\n",
            " |-- sexo_trabalhador: double (nullable = true)\n",
            " |-- tamanho_estabelecimento: integer (nullable = true)\n",
            " |-- tempo_emprego: string (nullable = true)\n",
            " |-- tipo_admissao: integer (nullable = true)\n",
            " |-- tipo_estab41: integer (nullable = true)\n",
            " |-- tipo_estab42: string (nullable = true)\n",
            " |-- tipo_defic: integer (nullable = true)\n",
            " |-- tipo_vinculo: integer (nullable = true)\n",
            " |-- ibge_subsetor: integer (nullable = true)\n",
            " |-- vl_rem_janeiro_sc: double (nullable = true)\n",
            " |-- vl_rem_fevereiro_sc: double (nullable = true)\n",
            " |-- vl_rem_marco_sc: double (nullable = true)\n",
            " |-- vl_rem_abril_sc: double (nullable = true)\n",
            " |-- vl_rem_maio_sc: double (nullable = true)\n",
            " |-- vl_rem_junho_sc: double (nullable = true)\n",
            " |-- vl_rem_julho_sc: double (nullable = true)\n",
            " |-- vl_rem_agosto_sc: double (nullable = true)\n",
            " |-- vl_rem_setembro_sc: double (nullable = true)\n",
            " |-- vl_rem_outubro_sc: double (nullable = true)\n",
            " |-- vl_rem_novembro_sc: double (nullable = true)\n",
            " |-- ano_chegada_brasil: integer (nullable = true)\n",
            " |-- ind_trab_intermitente: integer (nullable = true)\n",
            " |-- ind_trab_parcial: integer (nullable = true)\n",
            " |-- uf: integer (nullable = true)\n",
            "\n"
          ]
        }
      ]
    },
    {
      "cell_type": "code",
      "source": [
        "rows = staging.count()\n",
        "print(f\"DataFrame Rows count : {rows}\")"
      ],
      "metadata": {
        "id": "nvy9_MxHNMIp"
      },
      "execution_count": null,
      "outputs": []
    },
    {
      "cell_type": "markdown",
      "source": [
        "# 1.0 Questionario"
      ],
      "metadata": {
        "id": "xT538OlaOB8S"
      }
    },
    {
      "cell_type": "markdown",
      "source": [
        "## Qual é o SEGUNDO motivo de desligamento mais frequente?"
      ],
      "metadata": {
        "id": "-5QawZHHOBuf"
      }
    },
    {
      "cell_type": "code",
      "source": [],
      "metadata": {
        "id": "yMGTFMegOIim"
      },
      "execution_count": null,
      "outputs": []
    },
    {
      "cell_type": "markdown",
      "source": [
        "## Qual é o estado com a maior média de renda nominal do Brasil?"
      ],
      "metadata": {
        "id": "Pr_WiGwTOBmK"
      }
    },
    {
      "cell_type": "code",
      "source": [],
      "metadata": {
        "id": "-IIuYI0MOXPW"
      },
      "execution_count": null,
      "outputs": []
    },
    {
      "cell_type": "markdown",
      "source": [
        "## Qual é a média da renda nominal da UF 31 (utilize a renda média nominal)?"
      ],
      "metadata": {
        "id": "lF76mT8IOBea"
      }
    },
    {
      "cell_type": "code",
      "source": [],
      "metadata": {
        "id": "BwWM3VTcOZBH"
      },
      "execution_count": null,
      "outputs": []
    },
    {
      "cell_type": "markdown",
      "source": [
        "## Quantas pessoas, no estado 21, possuem renda nominal média menor do que o salário-mínimo de 2020 (1039 reais)?"
      ],
      "metadata": {
        "id": "Mp4oMgJMOBXH"
      }
    },
    {
      "cell_type": "code",
      "source": [],
      "metadata": {
        "id": "KUna7OgxOaAq"
      },
      "execution_count": null,
      "outputs": []
    },
    {
      "cell_type": "markdown",
      "source": [
        "## Qual foi a média de horas trabalhadas na UF 16?"
      ],
      "metadata": {
        "id": "exUUPjgVOBPr"
      }
    },
    {
      "cell_type": "code",
      "source": [],
      "metadata": {
        "id": "qtmg1CvUOaqN"
      },
      "execution_count": null,
      "outputs": []
    },
    {
      "cell_type": "markdown",
      "source": [
        "## Qual é a diferença entre os salários médios nominais entre categorias de sexo?"
      ],
      "metadata": {
        "id": "BGwcj8OxOBIM"
      }
    },
    {
      "cell_type": "code",
      "source": [],
      "metadata": {
        "id": "OKzjuPRIObPL"
      },
      "execution_count": null,
      "outputs": []
    },
    {
      "cell_type": "markdown",
      "source": [
        "## Qual é a diferença entre os salários médios nominais entre categorias de sexo para os trabalhadores da área de tecnologia (CNAE 2.0 Classe = 62040)?"
      ],
      "metadata": {
        "id": "if3HsInoOBAu"
      }
    },
    {
      "cell_type": "code",
      "source": [],
      "metadata": {
        "id": "Eh3rLYU-OcGv"
      },
      "execution_count": null,
      "outputs": []
    }
  ]
}